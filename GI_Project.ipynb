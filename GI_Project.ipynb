{
 "cells": [
  {
   "cell_type": "markdown",
   "id": "virgin-ordinary",
   "metadata": {},
   "source": [
    "# Comparison of VCF files\n",
    "\n",
    "## 1. Introduction\n",
    "\n",
    "The goal of this assignment is to do variant calling on human_g1k_v37_decoy.fasta reference genome and C835.HCC1143.2.converted.realigned.base_recalibrated.bam file using two callers: GATK 4 HaplotypeCaller [1] and FreeBayes [2].\n",
    "\n",
    "After that, results need to be compared using HaplotypeCaller's one as a truth set and Freebayes' one as a test set. Informations of interest are: number of true positives, false positives and false negatives, precision, recall and f-score.\n",
    "\n",
    "## 2. Variant calling\n",
    "\n",
    "In order to do variant calling with GATK 4 HaplotypeCaller, two input arguments are required: input alingments (BAM file) and reference (FASTA file). Apart from those, two additional files need to be present in the directory with reference files, with FAI and DICT formats. Results are written into gatk_result.vcf, and this will be considered the truth set of the further analysis.\n",
    "\n",
    "FreeBayes also requires same arguments as previous caller, but it does not require any additional files to be present. Results are written into freebayes_result.freebayes.vcf, which will be test set of the further analysis.\n",
    "\n",
    "## 3. VCF comparison\n",
    "\n",
    "VCF is a text file format that contains meta-information lines, a headerline, and then data lines each containing information about a position in the genome. The format also has the ability to contain genotype information on samples for each position. [3] It is the format in which the results of both previously used tools were written.\n",
    "\n",
    "True positive variants are those varients from the test set that are also present in the truth set, while false positive are the ones that aren't presnt in the truth set. On the other hand, false negatives are those variants present in the thruth set, but missing from the test set. Precision, in this particular context, is fraction of true positive varients in the test set, while recall is fraction of true poositive varients in the truth set. F-measure is the harmonic mean of precision and recal.\n",
    "\n",
    "### 3.1. Simple algorithm"
   ]
  },
  {
   "cell_type": "markdown",
   "id": "broad-glass",
   "metadata": {},
   "source": [
    "## 5. References\n",
    "\n",
    "[1] https://gatk.broadinstitute.org/hc/en-us\n",
    "\n",
    "[2] https://github.com/freebayes/freebayes\n",
    "\n",
    "[3] http://samtools.github.io/hts-specs/VCFv4.2.pdf\n",
    "\n",
    "[4] https://en.wikipedia.org/wiki/Precision_and_recall"
   ]
  }
 ],
 "metadata": {
  "kernelspec": {
   "display_name": "Python 3",
   "language": "python",
   "name": "python3"
  },
  "language_info": {
   "codemirror_mode": {
    "name": "ipython",
    "version": 3
   },
   "file_extension": ".py",
   "mimetype": "text/x-python",
   "name": "python",
   "nbconvert_exporter": "python",
   "pygments_lexer": "ipython3",
   "version": "3.8.5"
  }
 },
 "nbformat": 4,
 "nbformat_minor": 5
}
