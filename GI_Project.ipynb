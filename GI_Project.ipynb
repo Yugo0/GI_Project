{
 "cells": [
  {
   "cell_type": "markdown",
   "id": "virgin-ordinary",
   "metadata": {},
   "source": [
    "# Comparison of VCF files\n",
    "\n",
    "## 1. Introduction\n",
    "\n",
    "The goal of this assignment is to do variant calling on human_g1k_v37_decoy.fasta reference genome and C835.HCC1143.2.converted.realigned.base_recalibrated.bam file using two callers: GATK 4 HaplotypeCaller [1] and FreeBayes [2].\n",
    "\n",
    "After that, results need to be compared using HaplotypeCaller's one as a truth set and Freebayes' one as a test set. Informations of interest are: number of true positives, false positives and false negatives, precision, recall and f-score.\n",
    "\n",
    "## 2. Variant calling\n",
    "\n",
    "In order to do variant calling with GATK 4 HaplotypeCaller, two input arguments are required: input alingments (BAM file) and reference (FASTA file). Apart from those, two additional files need to be present in the directory with reference files, with FAI and DICT formats. Results are written into gatk_result.vcf, and this will be considered the truth set of the further analysis.\n",
    "\n",
    "FreeBayes also requires same arguments as previous caller, but it does not require any additional files to be present. Results are written into freebayes_result.freebayes.vcf, which will be test set of the further analysis.\n",
    "\n",
    "## 3. VCF comparison\n",
    "\n",
    "VCF is a text file format that contains meta-information lines, a headerline, and then data lines each containing information about a position in the genome. The format also has the ability to contain genotype information on samples for each position. [3] It is the format in which the results of both previously used tools were written.\n",
    "\n",
    "True positive variants are those varients from the test set that are also present in the truth set, while false positive are the ones that aren't presnt in the truth set. On the other hand, false negatives are those variants present in the thruth set, but missing from the test set. Precision, in this particular context, is fraction of true positive varients in the test set, while recall is fraction of true poositive varients in the truth set. F-measure is the harmonic mean of precision and recal.\n",
    "\n",
    "### 3.1. Simple algorithm\n",
    "\n",
    "The most simple way of comparing VCF files would be to compare only chromosome names in wich variants are found, their positions within chromosomes, as well as reference and alt alleles.\n",
    "\n",
    "To read VCF `pysam` Python module [5] will be used, specificaly its `VariantFile` class."
   ]
  },
  {
   "cell_type": "code",
   "execution_count": 14,
   "id": "trained-dubai",
   "metadata": {},
   "outputs": [],
   "source": [
    "import pysam\n",
    "\n",
    "truthSet = pysam.VariantFile(\"vcf_files/gatk_result.vcf\")\n",
    "testSet = pysam.VariantFile(\"vcf_files/freebayes_result.freebayes.vcf\")"
   ]
  },
  {
   "cell_type": "markdown",
   "id": "virgin-condition",
   "metadata": {},
   "source": [
    "The number of varients in each file can now be obtained."
   ]
  },
  {
   "cell_type": "code",
   "execution_count": 15,
   "id": "innovative-alignment",
   "metadata": {},
   "outputs": [
    {
     "name": "stdout",
     "output_type": "stream",
     "text": [
      "Number of variants in truth set: 70181\n",
      "Number of variants in test set: 77620\n"
     ]
    }
   ],
   "source": [
    "truthSet.reset()\n",
    "testSet.reset()\n",
    "\n",
    "truthCount = len(list(truthSet))\n",
    "testCount = len(list(testSet))\n",
    "\n",
    "print(f\"Number of variants in truth set: {truthCount}\")\n",
    "print(f\"Number of variants in test set: {testCount}\")"
   ]
  },
  {
   "cell_type": "markdown",
   "id": "skilled-bulletin",
   "metadata": {},
   "source": [
    "Now is the time to check if variants in files are in order or not. But, before that, since chromosome name is a string, it needs to be transformed into integer, which is comparable using lesser and greater than. Easiest way to do this is using dictionaries."
   ]
  },
  {
   "cell_type": "code",
   "execution_count": 30,
   "id": "polish-dietary",
   "metadata": {},
   "outputs": [
    {
     "name": "stdout",
     "output_type": "stream",
     "text": [
      "Truth set: IN ORDER\n",
      "Test set: IN ORDER\n"
     ]
    }
   ],
   "source": [
    "chromDict = {\n",
    "    \"1\": 1, \"2\": 2, \"3\": 3, \"4\": 4, \"5\": 5, \"6\": 6, \"7\": 7, \"8\": 8, \"9\": 9, \"10\": 10,\n",
    "    \"11\": 11, \"12\": 12, \"13\": 13, \"14\": 14, \"15\": 15, \"16\": 16, \"17\": 17, \"18\": 18,\n",
    "    \"19\": 19, \"20\": 20, \"21\": 21, \"22\": 22, \"X\": 23, \"Y\": 24, \"MT\": 25\n",
    "}\n",
    "\n",
    "truthTest = True\n",
    "testTest = True\n",
    "\n",
    "truthSet.reset()\n",
    "testSet.reset()\n",
    "\n",
    "prevRecord = next(truthSet)\n",
    "\n",
    "for record in truthSet:\n",
    "    if chromDict[prevRecord.chrom] > chromDict[record.chrom] or (chromDict[prevRecord.chrom] == chromDict[record.chrom] and prevRecord.pos > record.pos):\n",
    "        truthTest = False\n",
    "        break\n",
    "    \n",
    "    prevRecord = record\n",
    "\n",
    "prevRecord = next(testSet)\n",
    "\n",
    "for record in testSet:\n",
    "    if chromDict[prevRecord.chrom] > chromDict[record.chrom] or (chromDict[prevRecord.chrom] == chromDict[record.chrom] and prevRecord.pos > record.pos):\n",
    "        testTest = False\n",
    "        break\n",
    "    \n",
    "    prevRecord = record\n",
    "\n",
    "print(\"Truth set: \" + \"IN ORDER\" if (truthTest) else \"NOT IN ORDER\")\n",
    "print(\"Test set: \" + \"IN ORDER\" if (testTest) else \"NOT IN ORDER\")"
   ]
  },
  {
   "cell_type": "markdown",
   "id": "incoming-genius",
   "metadata": {},
   "source": [
    "Knowing that both files are in order greatly reduces analysis time, since only one pass trough both of the files is required. It is enough to look for true positives, since number false positives and false negatives can be calculated by subtracting number of true positives from total munber of varients in test set and truth set, respectively."
   ]
  },
  {
   "cell_type": "code",
   "execution_count": 26,
   "id": "bound-fashion",
   "metadata": {},
   "outputs": [
    {
     "name": "stdout",
     "output_type": "stream",
     "text": [
      "TP: 18955\n",
      "FP: 58665\n",
      "FN: 51226\n",
      "\n",
      "TP[%]: 24.420252512239113%\n",
      "FP[%]: 75.57974748776088%\n",
      "FN[%]: 72.9912654422137%\n",
      "\n",
      "Precision: 0.24420252512239113\n",
      "Recall: 0.27008734557786296\n",
      "F-measure: 0.2564935284605652\n"
     ]
    }
   ],
   "source": [
    "truePositives = 0\n",
    "\n",
    "truthSet.reset()\n",
    "testSet.reset()\n",
    "\n",
    "testRecord = next(testSet)\n",
    "\n",
    "for truthRecord in truthSet:\n",
    "    try:\n",
    "        if chromDict[truthRecord.chrom] == chromDict[testRecord.chrom]:\n",
    "            if truthRecord.pos == testRecord.pos:\n",
    "                if truthRecord.ref == testRecord.ref and truthRecord.alts == testRecord.alts:\n",
    "                    truePositives += 1\n",
    "                testRecord = next(testSet)\n",
    "            elif truthRecord.pos > testRecord.pos:\n",
    "                while chromDict[truthRecord.chrom] == chromDict[testRecord.chrom] and truthRecord.pos > testRecord.pos:\n",
    "                    testRecord = next(testSet)\n",
    "        elif chromDict[truthRecord.chrom] > chromDict[testRecord.chrom]:\n",
    "            while chromDict[truthRecord.chrom] > chromDict[testRecord.chrom]:\n",
    "                testRecord = next(testSet)\n",
    "    except:\n",
    "        break\n",
    "\n",
    "falsePositives = testCount - truePositives\n",
    "falseNegatives = truthCount - truePositives\n",
    "\n",
    "precision = truePositives / testCount\n",
    "recall = truePositives / truthCount\n",
    "fMeasure = 2 * precision * recall / (precision + recall)\n",
    "\n",
    "print(f\"TP: {truePositives}\")\n",
    "print(f\"FP: {falsePositives}\")\n",
    "print(f\"FN: {falseNegatives}\")\n",
    "print()\n",
    "print(f\"TP[%]: {truePositives / testCount * 100}%\")\n",
    "print(f\"FP[%]: {falsePositives / testCount * 100}%\")\n",
    "print(f\"FN[%]: {falseNegatives / truthCount * 100}%\")\n",
    "print()\n",
    "print(f\"Precision: {precision}\")\n",
    "print(f\"Recall: {recall}\")\n",
    "print(f\"F-measure: {fMeasure}\")"
   ]
  },
  {
   "cell_type": "markdown",
   "id": "broad-glass",
   "metadata": {},
   "source": [
    "## 5. References\n",
    "\n",
    "[1] https://gatk.broadinstitute.org/hc/en-us\n",
    "\n",
    "[2] https://github.com/freebayes/freebayes\n",
    "\n",
    "[3] http://samtools.github.io/hts-specs/VCFv4.2.pdf\n",
    "\n",
    "[4] https://en.wikipedia.org/wiki/Precision_and_recall\n",
    "\n",
    "[5] https://github.com/pysam-developers/pysam"
   ]
  }
 ],
 "metadata": {
  "kernelspec": {
   "display_name": "Python 3",
   "language": "python",
   "name": "python3"
  },
  "language_info": {
   "codemirror_mode": {
    "name": "ipython",
    "version": 3
   },
   "file_extension": ".py",
   "mimetype": "text/x-python",
   "name": "python",
   "nbconvert_exporter": "python",
   "pygments_lexer": "ipython3",
   "version": "3.8.5"
  }
 },
 "nbformat": 4,
 "nbformat_minor": 5
}
