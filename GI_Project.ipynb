{
 "cells": [
  {
   "cell_type": "markdown",
   "id": "virgin-ordinary",
   "metadata": {},
   "source": [
    "# Comparison of VCF files\n",
    "\n",
    "## Introduction\n",
    "\n",
    "The goal of this assignment is to execute variant calling on human_g1k_v37_decoy.fasta reference genome and C835.HCC1143.2.converted.realigned.base_recalibrated.bam file using two callers: GATK 4 HaplotypeCaller [1] and FreeBayes [2].\n",
    "\n",
    "After that, results need to be compared using HaplotypeCaller's one as a truth set and Freebayes' one as a test set. Informations of interest are: number of true positives, false positives and false negatives, precision, recall and f-score.\n",
    "\n",
    "## Variant calling\n",
    "\n"
   ]
  },
  {
   "cell_type": "markdown",
   "id": "broad-glass",
   "metadata": {},
   "source": [
    "## References\n",
    "\n",
    "[1] https://gatk.broadinstitute.org/hc/en-us\n",
    "\n",
    "[2] https://github.com/freebayes/freebayes"
   ]
  }
 ],
 "metadata": {
  "kernelspec": {
   "display_name": "Python 3",
   "language": "python",
   "name": "python3"
  },
  "language_info": {
   "codemirror_mode": {
    "name": "ipython",
    "version": 3
   },
   "file_extension": ".py",
   "mimetype": "text/x-python",
   "name": "python",
   "nbconvert_exporter": "python",
   "pygments_lexer": "ipython3",
   "version": "3.8.5"
  }
 },
 "nbformat": 4,
 "nbformat_minor": 5
}
